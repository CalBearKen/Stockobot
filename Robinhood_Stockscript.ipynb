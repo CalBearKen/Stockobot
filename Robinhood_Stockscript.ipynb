{
 "cells": [
  {
   "cell_type": "code",
   "execution_count": 47,
   "metadata": {},
   "outputs": [],
   "source": [
    "from IPython.display import clear_output\n",
    "from datetime import datetime\n",
    "import robin_stocks as robin\n",
    "import logging\n",
    "import csv\n"
   ]
  },
  {
   "cell_type": "code",
   "execution_count": 13,
   "metadata": {},
   "outputs": [],
   "source": [
    "\"\"\"Generate Debug Log\"\"\"\n",
    "LOG_FILENAME = 'script.log'\n",
    "logging.basicConfig(filename=LOG_FILENAME, level=logging.DEBUG)\n",
    "now = datetime.now().strftime('%Y-%m-%d %H:%M:%S')\n",
    "logging.debug(now + \" +Script started+\")"
   ]
  },
  {
   "cell_type": "code",
   "execution_count": 43,
   "metadata": {},
   "outputs": [],
   "source": [
    "\"\"\"Generate CSV Trading Tracker\"\"\"\n",
    "start_time = now\n",
    "with open('TradeLog.csv', 'w') as csvfile:\n",
    "    writer = csv.writer(csvfile, delimiter=',', quotechar='|')\n",
    "    datapoints = ['start_time', 'trade_time', 'symbol', 'price', 'sell/buy']\n",
    "    writer.writerow(datapoints)"
   ]
  },
  {
   "cell_type": "code",
   "execution_count": null,
   "metadata": {},
   "outputs": [],
   "source": [
    "\"\"\"Read stock symbols to watch from stock watchlist file\"\"\"\n",
    "with open('watchlist.csv', 'w') as watchlist:\n",
    "    writer = csv.writer(watchlist, delimiter=',', quotechar='|')\n",
    "    datapoints = ['symbol', 'date_added', 'time_added', 'price0']\n",
    "    writer.writerow(datapoints)\n",
    "    \n",
    "def add_to_watchlist(symbol, price):\n",
    "    \n",
    "    "
   ]
  },
  {
   "cell_type": "code",
   "execution_count": 48,
   "metadata": {},
   "outputs": [],
   "source": [
    "\"\"\"Implement Encryption\"\"\"\n",
    "#script requires log in everytime and wipes the credential variables once token is received to increase security\n",
    "username = input(\"Please enter username:\")\n",
    "password = input(\"Please enter password:\")\n",
    "token_dict = robin.login(username, password)\n",
    "token = token_dict['access_token']\n",
    "username, password = 0, 0\n",
    "\n",
    "if token_dict != None:\n",
    "    logging.debug(now + ' +Token received+')\n",
    "else: \n",
    "    logging.warning(now + ' -Token NOT received!-')\n",
    "    \n",
    "clear_output()\n",
    "print('Logged in successfully')"
   ]
  },
  {
   "cell_type": "code",
   "execution_count": null,
   "metadata": {},
   "outputs": [],
   "source": [
    "\"\"\"Day-trade prevention: prevent from buying and selling same stock at same day\"\"\"\n"
   ]
  },
  {
   "cell_type": "code",
   "execution_count": 53,
   "metadata": {
    "scrolled": true
   },
   "outputs": [
    {
     "name": "stdout",
     "output_type": "stream",
     "text": [
      "fuck yea AMD\n",
      "fuck yea LUNA\n"
     ]
    },
    {
     "data": {
      "text/plain": [
       "{'QCOM': {'price': '88.450000',\n",
       "  'quantity': '5.00000000',\n",
       "  'average_buy_price': '71.3150',\n",
       "  'equity': '442.25',\n",
       "  'percent_change': '24.03',\n",
       "  'equity_change': '85.675000',\n",
       "  'type': 'stock',\n",
       "  'name': 'Qualcomm',\n",
       "  'id': '5ea5e761-1747-4911-beec-5a24af338329',\n",
       "  'pe_ratio': '24.430500',\n",
       "  'percentage': '41.19'},\n",
       " 'AMD': {'price': '42.500000',\n",
       "  'quantity': '8.00000000',\n",
       "  'average_buy_price': '25.6100',\n",
       "  'equity': '340.00',\n",
       "  'percent_change': '65.95',\n",
       "  'equity_change': '135.120000',\n",
       "  'type': 'stock',\n",
       "  'name': 'AMD',\n",
       "  'id': '940fc3f5-1db5-4fed-b452-f3a2e4562b5f',\n",
       "  'pe_ratio': '212.552000',\n",
       "  'percentage': '31.67'},\n",
       " 'LUNA': {'price': '7.780000',\n",
       "  'quantity': '12.00000000',\n",
       "  'average_buy_price': '3.6458',\n",
       "  'equity': '93.36',\n",
       "  'percent_change': '113.40',\n",
       "  'equity_change': '49.610400',\n",
       "  'type': 'stock',\n",
       "  'name': 'Luna Innovations',\n",
       "  'id': 'b0bba285-1e9a-4a06-b08f-a0c4a9d884f4',\n",
       "  'pe_ratio': '90.349800',\n",
       "  'percentage': '8.69'},\n",
       " 'EADSY': {'price': '36.240000',\n",
       "  'quantity': '2.00000000',\n",
       "  'average_buy_price': '32.8050',\n",
       "  'equity': '72.48',\n",
       "  'percent_change': '10.47',\n",
       "  'equity_change': '6.870000',\n",
       "  'type': 'adr',\n",
       "  'name': 'Airbus',\n",
       "  'id': '091aac51-a092-4661-9920-2dbec9ca9d5b',\n",
       "  'pe_ratio': '25.490500',\n",
       "  'percentage': '6.75'},\n",
       " 'TWTR': {'price': '31.600000',\n",
       "  'quantity': '1.00000000',\n",
       "  'average_buy_price': '29.1800',\n",
       "  'equity': '31.60',\n",
       "  'percent_change': '8.29',\n",
       "  'equity_change': '2.420000',\n",
       "  'type': 'stock',\n",
       "  'name': 'Twitter',\n",
       "  'id': '3a47ca97-d5a2-4a55-9045-053a588894de',\n",
       "  'pe_ratio': '14.849000',\n",
       "  'percentage': '2.94'},\n",
       " 'LYFT': {'price': '47.160000',\n",
       "  'quantity': '1.00000000',\n",
       "  'average_buy_price': '59.9450',\n",
       "  'equity': '47.16',\n",
       "  'percent_change': '-21.33',\n",
       "  'equity_change': '-12.785000',\n",
       "  'type': 'stock',\n",
       "  'name': 'Lyft',\n",
       "  'id': '2fd39520-01a7-4612-ab1f-ddbb9a861268',\n",
       "  'pe_ratio': '0.000000',\n",
       "  'percentage': '4.39'},\n",
       " 'TRIP': {'price': '29.890000',\n",
       "  'quantity': '1.00000000',\n",
       "  'average_buy_price': '32.4000',\n",
       "  'equity': '29.89',\n",
       "  'percent_change': '-7.75',\n",
       "  'equity_change': '-2.510000',\n",
       "  'type': 'stock',\n",
       "  'name': 'TripAdvisor',\n",
       "  'id': '7328fdb2-35ac-41e7-930c-d368585f2f6e',\n",
       "  'pe_ratio': '35.185900',\n",
       "  'percentage': '2.78'},\n",
       " 'RKUNY': {'price': '8.500000',\n",
       "  'quantity': '2.00000000',\n",
       "  'average_buy_price': '8.9000',\n",
       "  'equity': '17.00',\n",
       "  'percent_change': '-4.49',\n",
       "  'equity_change': '-0.800000',\n",
       "  'type': 'adr',\n",
       "  'name': 'Rakuten',\n",
       "  'id': '5f4e41a2-b358-43ed-99ad-930107b8f27b',\n",
       "  'pe_ratio': '76.241100',\n",
       "  'percentage': '1.58'}}"
      ]
     },
     "execution_count": 53,
     "metadata": {},
     "output_type": "execute_result"
    }
   ],
   "source": [
    "current_portfolio = robin.account.build_holdings()\n",
    "fundamental_info = robin.stocks.get_fundamentals('QCOM')\n",
    "fundamentals = {}\n",
    "hist_price = {}\n",
    "for key, info in current_portfolio.items():\n",
    "    hist_price[key] = robin.stocks.get_historicals(key, span='week', bounds='regular')\n",
    "    if float(current_portfolio[key]['percent_change']) > 25:\n",
    "        print(\"fuck yea \" + key)\n",
    "    elif float(current_portfolio[key]['percent_change']) < -25: #stoploss\n",
    "        '''Need to think of more sophisticated mechanisms for stoploss to prevent unnecessary loss\n",
    "        maybe define a separate function (stoploss_check()) for stoploss'''\n",
    "        print(\"Sell \" + key + \" now!\")\n",
    "    else: continue\n",
    "current_portfolio\n",
    "\n"
   ]
  },
  {
   "cell_type": "markdown",
   "metadata": {},
   "source": [
    "Stop-loss ideas: \n",
    "price_delta = price - price[-1] for prices over a period of time if price != price[0]\n",
    "record list of deltas of one week and observe if delta decreases or increases over the time period \n",
    "if delta trend is increasing from negative, stock price is reaching trough and a good time to invest\n",
    "if delta trend is increasing from positive, stock price is rising, good time to sell\n",
    "if delta trend is decreasing from positive, stock price is reaching peak, good time to sell\n",
    "if delta trend is decreasing from negative, stock price just began to drop and will drop lower, good time to sell\n",
    "\n",
    "or sell ONLY if equity_change is positive, which means no stop-loss\n",
    "\n",
    "buy previous stock ONLY if:\n",
    "The stock has not been traded today\n",
    "current price < previous sell price"
   ]
  }
 ],
 "metadata": {
  "kernelspec": {
   "display_name": "Python 3",
   "language": "python",
   "name": "python3"
  },
  "language_info": {
   "codemirror_mode": {
    "name": "ipython",
    "version": 3
   },
   "file_extension": ".py",
   "mimetype": "text/x-python",
   "name": "python",
   "nbconvert_exporter": "python",
   "pygments_lexer": "ipython3",
   "version": "3.7.4"
  }
 },
 "nbformat": 4,
 "nbformat_minor": 2
}
