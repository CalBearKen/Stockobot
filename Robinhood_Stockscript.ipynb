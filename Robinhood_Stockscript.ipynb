{
 "cells": [
  {
   "cell_type": "code",
   "execution_count": 2,
   "metadata": {},
   "outputs": [],
   "source": [
    "from IPython.display import clear_output\n",
    "from datetime import datetime\n",
    "from statistics import mean\n",
    "from matplotlib import pyplot as plt\n",
    "import pandas as pd\n",
    "import robin_stocks as robin\n",
    "import threading\n",
    "import logging\n",
    "import getpass\n",
    "import csv\n"
   ]
  },
  {
   "cell_type": "code",
   "execution_count": 4,
   "metadata": {},
   "outputs": [],
   "source": [
    "\"\"\"Generate Debug Log\"\"\"\n",
    "LOG_FILENAME = 'script.log'\n",
    "logging.basicConfig(filename=LOG_FILENAME, level=logging.DEBUG)\n",
    "now = datetime.now().strftime('%Y-%m-%d %H:%M:%S')\n",
    "logging.debug(now + \" +Script started+\")"
   ]
  },
  {
   "cell_type": "code",
   "execution_count": 4,
   "metadata": {},
   "outputs": [],
   "source": [
    "\"\"\"Generate CSV Trading Tracker\"\"\"\n",
    "start_time = now\n",
    "with open('TradeLog.csv', 'w') as csvfile:\n",
    "    writer = csv.writer(csvfile, delimiter=',', quotechar='|')\n",
    "    datapoints = ['start_time', 'trade_time', 'symbol', 'price', 'sell/buy']\n",
    "    writer.writerow(datapoints)"
   ]
  },
  {
   "cell_type": "code",
   "execution_count": 5,
   "metadata": {},
   "outputs": [],
   "source": [
    "\"\"\"Read stock symbols to watch from stock watchlist file\"\"\"\n",
    "with open('watchlist.csv', 'w') as watchlist:\n",
    "    writer = csv.writer(watchlist, delimiter=',', quotechar='|')\n",
    "    datapoints = ['symbol', 'time', 'price0', 'buy_price', 'sell_price', 'buy_date', 'sell_date']\n",
    "    writer.writerow(datapoints)\n",
    "    #generates csv file for storing symbols to watch \n",
    "    \n",
    "\n",
    "    \n",
    "\n",
    "    \n",
    "\n",
    "def add_to_watchlist(symbol, price):\n",
    "    time_added = now\n",
    "    price0 = robin.stocks.get_latest_price(symbol)\n",
    "    with open('watchlist.csv', 'w') as watchlist:\n",
    "        writer = csv.writer(watchlist, delimiter=',', quotechar='|')\n",
    "        datapoints = [symbol, time_added, price0]\n",
    "        writer.writerow(datapoints)\n",
    "    pass"
   ]
  },
  {
   "cell_type": "code",
   "execution_count": 6,
   "metadata": {},
   "outputs": [
    {
     "name": "stdout",
     "output_type": "stream",
     "text": [
      "stay in safe mode?(Y/N)Y\n"
     ]
    }
   ],
   "source": [
    "\"\"\"Safe Mode prevents robot from actively trading, instead only tells you what to trade\"\"\"\n",
    "safemode = input(\"stay in safe mode?(Y/N)\")\n",
    "if safemode == 'Y':\n",
    "    safemode = 1\n",
    "elif safemode == 'N':\n",
    "    safemode = 0\n",
    "else:\n",
    "    print(\"Invalid answer, safe mode on\")\n",
    "    safemode = 1"
   ]
  },
  {
   "cell_type": "code",
   "execution_count": 7,
   "metadata": {},
   "outputs": [
    {
     "name": "stdout",
     "output_type": "stream",
     "text": [
      "{}\n"
     ]
    }
   ],
   "source": [
    "data = pd.read_csv('watchlist.csv')\n",
    "symbols = data['symbol']\n",
    "\"\"\"for symbol in symbols:\n",
    "    buy_check(data, symbol)\n",
    "\n",
    "def buy_check(data, symbol): #check conditions for buying the stock, returns a score rating for the stock\n",
    "    '''buy+1 if: \n",
    "    price of symbol is lower than price0\n",
    "    delta(price) over the past 7 days is increasing to zero\n",
    "    '''\n",
    "    price_now = robin.stocks.get_latest_price(symbol)\n",
    "    price0 = data['symbol'==symbol]['price0'] \n",
    "    \n",
    "    dropped = price_now < price0\n",
    "    date_now = datetime.now().strftime('%Y-%m-%d')\n",
    "    delta_list = delta(symbol, [date_now-7, date_now])\n",
    "    print(date_now-7)\n",
    "    \"\"\"\n",
    "    \n",
    "ticker = {}\n",
    "for symbol in data['symbol']:\n",
    "    price1 = robin.stocks.get_latest_price(symbol)\n",
    "    ticker[symbol] = pd.Series(price1)   \n",
    "\n",
    "def ticker_list():\n",
    "    for symbol in data['symbol']:\n",
    "    #timer to wait 10 minutes then record next ticker\n",
    "        price = robin.stocks.get_latest_price(symbol)\n",
    "        ticker[symbol].append(price)\n",
    "t = 5\n",
    "while t>0:\n",
    "    timer = threading.Timer(600, ticker_list)\n",
    "    timer.start()\n",
    "    t -= 1\n",
    "print(ticker)"
   ]
  },
  {
   "cell_type": "code",
   "execution_count": 13,
   "metadata": {
    "scrolled": true
   },
   "outputs": [
    {
     "ename": "AttributeError",
     "evalue": "'list' object has no attribute 'loc'",
     "output_type": "error",
     "traceback": [
      "\u001b[1;31m---------------------------------------------------------------------------\u001b[0m",
      "\u001b[1;31mAttributeError\u001b[0m                            Traceback (most recent call last)",
      "\u001b[1;32m<ipython-input-13-c19cd9ec0e6e>\u001b[0m in \u001b[0;36m<module>\u001b[1;34m\u001b[0m\n\u001b[0;32m      3\u001b[0m \u001b[1;33m\u001b[0m\u001b[0m\n\u001b[0;32m      4\u001b[0m \u001b[0mhistoricals\u001b[0m \u001b[1;33m=\u001b[0m \u001b[0mrobin\u001b[0m\u001b[1;33m.\u001b[0m\u001b[0mstocks\u001b[0m\u001b[1;33m.\u001b[0m\u001b[0mget_historicals\u001b[0m\u001b[1;33m(\u001b[0m\u001b[1;34m'QCOM'\u001b[0m\u001b[1;33m,\u001b[0m \u001b[0mspan\u001b[0m\u001b[1;33m=\u001b[0m\u001b[1;34m'week'\u001b[0m\u001b[1;33m,\u001b[0m \u001b[0mbounds\u001b[0m\u001b[1;33m=\u001b[0m\u001b[1;34m'regular'\u001b[0m\u001b[1;33m)\u001b[0m\u001b[1;33m\u001b[0m\u001b[1;33m\u001b[0m\u001b[0m\n\u001b[1;32m----> 5\u001b[1;33m \u001b[0mprint\u001b[0m\u001b[1;33m(\u001b[0m\u001b[0mhistoricals\u001b[0m\u001b[1;33m.\u001b[0m\u001b[0mloc\u001b[0m\u001b[1;33m(\u001b[0m\u001b[1;34m'open_price'\u001b[0m\u001b[1;33m)\u001b[0m\u001b[1;33m)\u001b[0m\u001b[1;33m\u001b[0m\u001b[1;33m\u001b[0m\u001b[0m\n\u001b[0m",
      "\u001b[1;31mAttributeError\u001b[0m: 'list' object has no attribute 'loc'"
     ]
    }
   ],
   "source": [
    "def historical_check(symbol):\n",
    "    historicals = robin.stocks.get_historicals(symbol, span='week', bounds='regular')\n",
    "\n",
    "historicals = robin.stocks.get_historicals('QCOM', span='week', bounds='regular')\n"
   ]
  },
  {
   "cell_type": "code",
   "execution_count": 7,
   "metadata": {
    "scrolled": false
   },
   "outputs": [],
   "source": [
    "\"\"\"Return a list of price changes between each date in a date range\"\"\"\n",
    "def tick_list(symbol, span='week'): #date_range takes in array of 2 dates [date1, date2]; return list of delta from date1 to date 2\n",
    "    price_list = pd.DataFrame()\n",
    "    historicals = robin.stocks.get_historicals(symbol, span='week', bounds='regular')\n",
    "    #print(historicals)\n",
    "    for h in historicals:\n",
    "        h_date = h['begins_at']\n",
    "        h_price = h['open_price']\n",
    "        h_df = pd.Series([h_date, float(h_price)])\n",
    "        #print(h_df[0])\n",
    "        #pd.concat([price_list, h_df])\n",
    "        price_list = price_list.append(h_df, ignore_index=True)\n",
    "    return price_list\n",
    "        \n",
    "    #print(price_list)\n",
    "    #for span of 'day' with extended bounds, ticker every 5 minutes from beginning of day\n",
    "    #for span of 'week' with regular bounds, ticker every 10 minutes\n",
    "    '''date = date1\n",
    "    while date <= date2:\n",
    "        date_price = \n",
    "        price_list.append([date, date_price])\n",
    "        date+=1'''\n"
   ]
  },
  {
   "cell_type": "code",
   "execution_count": 17,
   "metadata": {
    "scrolled": true
   },
   "outputs": [
    {
     "data": {
      "image/png": "[encoded data removed]",
      "text/plain": [
       "<Figure size 432x288 with 2 Axes>"
      ]
     },
     "metadata": {
      "needs_background": "light"
     },
     "output_type": "display_data"
    }
   ],
   "source": [
    "def delta_list(symbol, span='week'): \n",
    "    ticks = tick_list(symbol, span)\n",
    "    smoothed = moving_avg(ticks, b=6)\n",
    "    deltas = pd.Series()\n",
    "    a = 0\n",
    "    while a+1 < len(smoothed):\n",
    "        deltas = deltas.append(smoothed.iloc[a+1] - smoothed.iloc[a])\n",
    "        a+=1\n",
    "    deltas = deltas.reset_index()\n",
    "    fig, axs = plt.subplots(2)\n",
    "    fig.suptitle('Rolling avg vs. deltas: '+ symbol)\n",
    "    axs[0].plot(smoothed)\n",
    "    axs[1].plot(deltas)\n",
    "    plt.show()\n",
    "    return deltas\n",
    "mavg = delta_list('QCOM')\n",
    "\n"
   ]
  },
  {
   "cell_type": "code",
   "execution_count": 10,
   "metadata": {},
   "outputs": [
    {
     "name": "stdout",
     "output_type": "stream",
     "text": [
      "401 Client Error: Unauthorized for url: https://api.robinhood.com/quotes/historicals/?symbols=QCOM&interval=10minute&span=week&bounds=regular\n"
     ]
    },
    {
     "ename": "TypeError",
     "evalue": "'NoneType' object is not subscriptable",
     "output_type": "error",
     "traceback": [
      "\u001b[1;31m---------------------------------------------------------------------------\u001b[0m",
      "\u001b[1;31mTypeError\u001b[0m                                 Traceback (most recent call last)",
      "\u001b[1;32m<ipython-input-10-50bdc2e8c117>\u001b[0m in \u001b[0;36m<module>\u001b[1;34m\u001b[0m\n\u001b[0;32m     12\u001b[0m     \u001b[1;32mreturn\u001b[0m \u001b[0mavgs\u001b[0m\u001b[1;33m\u001b[0m\u001b[1;33m\u001b[0m\u001b[0m\n\u001b[0;32m     13\u001b[0m \u001b[1;33m\u001b[0m\u001b[0m\n\u001b[1;32m---> 14\u001b[1;33m \u001b[0ml\u001b[0m \u001b[1;33m=\u001b[0m \u001b[0mtick_list\u001b[0m\u001b[1;33m(\u001b[0m\u001b[1;34m'QCOM'\u001b[0m\u001b[1;33m)\u001b[0m\u001b[1;33m\u001b[0m\u001b[1;33m\u001b[0m\u001b[0m\n\u001b[0m\u001b[0;32m     15\u001b[0m \u001b[1;33m\u001b[0m\u001b[0m\n\u001b[0;32m     16\u001b[0m \u001b[0mmoving_avg\u001b[0m\u001b[1;33m(\u001b[0m\u001b[0ml\u001b[0m\u001b[1;33m,\u001b[0m \u001b[1;36m6\u001b[0m\u001b[1;33m)\u001b[0m\u001b[1;33m\u001b[0m\u001b[1;33m\u001b[0m\u001b[0m\n",
      "\u001b[1;32m<ipython-input-8-8c457c9ed1bf>\u001b[0m in \u001b[0;36mtick_list\u001b[1;34m(symbol, span)\u001b[0m\n\u001b[0;32m      5\u001b[0m     \u001b[1;31m#print(historicals)\u001b[0m\u001b[1;33m\u001b[0m\u001b[1;33m\u001b[0m\u001b[1;33m\u001b[0m\u001b[0m\n\u001b[0;32m      6\u001b[0m     \u001b[1;32mfor\u001b[0m \u001b[0mh\u001b[0m \u001b[1;32min\u001b[0m \u001b[0mhistoricals\u001b[0m\u001b[1;33m:\u001b[0m\u001b[1;33m\u001b[0m\u001b[1;33m\u001b[0m\u001b[0m\n\u001b[1;32m----> 7\u001b[1;33m         \u001b[0mh_date\u001b[0m \u001b[1;33m=\u001b[0m \u001b[0mh\u001b[0m\u001b[1;33m[\u001b[0m\u001b[1;34m'begins_at'\u001b[0m\u001b[1;33m]\u001b[0m\u001b[1;33m\u001b[0m\u001b[1;33m\u001b[0m\u001b[0m\n\u001b[0m\u001b[0;32m      8\u001b[0m         \u001b[0mh_price\u001b[0m \u001b[1;33m=\u001b[0m \u001b[0mh\u001b[0m\u001b[1;33m[\u001b[0m\u001b[1;34m'open_price'\u001b[0m\u001b[1;33m]\u001b[0m\u001b[1;33m\u001b[0m\u001b[1;33m\u001b[0m\u001b[0m\n\u001b[0;32m      9\u001b[0m         \u001b[0mh_df\u001b[0m \u001b[1;33m=\u001b[0m \u001b[0mpd\u001b[0m\u001b[1;33m.\u001b[0m\u001b[0mSeries\u001b[0m\u001b[1;33m(\u001b[0m\u001b[1;33m[\u001b[0m\u001b[0mh_date\u001b[0m\u001b[1;33m,\u001b[0m \u001b[0mfloat\u001b[0m\u001b[1;33m(\u001b[0m\u001b[0mh_price\u001b[0m\u001b[1;33m)\u001b[0m\u001b[1;33m]\u001b[0m\u001b[1;33m)\u001b[0m\u001b[1;33m\u001b[0m\u001b[1;33m\u001b[0m\u001b[0m\n",
      "\u001b[1;31mTypeError\u001b[0m: 'NoneType' object is not subscriptable"
     ]
    }
   ],
   "source": [
    "def moving_avg(l, b): #return list of moving averages with every b ticks\n",
    "    a = 0\n",
    "    #print(l[a:b])\n",
    "    avgs = pd.Series(mean(l[a:b][1]))\n",
    "    while b < len(l):\n",
    "        a+=1\n",
    "        b+=1\n",
    "        avg = pd.Series(mean(l[a:b][1]))\n",
    "        avgs = avgs.append(avg)\n",
    "    avgs = avgs.reset_index()\n",
    "    avgs = avgs.drop(columns='index')\n",
    "    return avgs\n",
    "\n",
    "l = tick_list('QCOM')\n",
    "\n",
    "moving_avg(l, 6)"
   ]
  },
  {
   "cell_type": "code",
   "execution_count": 5,
   "metadata": {},
   "outputs": [
    {
     "name": "stdout",
     "output_type": "stream",
     "text": [
      "Logged in successfully\n"
     ]
    }
   ],
   "source": [
    "\"\"\"Login\"\"\"\n",
    "#script requires log in everytime and wipes the credential variables once token is received to increase security\n",
    "username = input(\"enter username:\")\n",
    "password = getpass.getpass(\"enter password:\")\n",
    "token_dict = robin.login(username, password)\n",
    "token = token_dict['access_token']\n",
    "username, password = 0, 0\n",
    "if token_dict != None:\n",
    "    logging.debug(now + ' +Token received+')\n",
    "else:\n",
    "    logging.warning(now + ' -Token NOT received!-')\n",
    "clear_output()\n",
    "print('Logged in successfully')"
   ]
  },
  {
   "cell_type": "code",
   "execution_count": null,
   "metadata": {},
   "outputs": [],
   "source": [
    "\"\"\"Day-trade prevention: prevent from buying and selling same stock at same day\"\"\"\n"
   ]
  },
  {
   "cell_type": "code",
   "execution_count": 71,
   "metadata": {
    "scrolled": true
   },
   "outputs": [
    {
     "name": "stdout",
     "output_type": "stream",
     "text": [
      "current price for PCG: 10.6\n",
      "Current price for PCG is NOT at one-week low, wait\n"
     ]
    }
   ],
   "source": [
    "\"\"\"Strat: buy when current ticker is lowest of 1 week worth of tickers\"\"\"\n",
    "def min_check(symbol, span='week'):\n",
    "#check if current price is min of one week tickers\n",
    "    price_list = tick_list(symbol, span)\n",
    "    current_price = float(price_list.iloc[[-1]][1])\n",
    "    minimum = min(price_list)\n",
    "    prices = price_list[1]\n",
    "    \n",
    "    print('current price for '+str(symbol)+': '+str(current_price))\n",
    "    if minimum == current_price:\n",
    "        print('Current price for '+symbol+' is at one-week low, buy now')\n",
    "    else:\n",
    "        #price_list\n",
    "        #frequency = len(price_list[price_list[1]==current_price])\n",
    "        print('Current price for '+symbol+' is NOT at one-week low, wait')\n",
    "min_check('PCG')\n"
   ]
  },
  {
   "cell_type": "code",
   "execution_count": 53,
   "metadata": {
    "collapsed": true
   },
   "outputs": [
    {
     "name": "stdout",
     "output_type": "stream",
     "text": [
      "fuck yea AMD\n",
      "fuck yea LUNA\n"
     ]
    },
    {
     "data": {
      "text/plain": [
       "{'QCOM': {'price': '88.450000',\n",
       "  'quantity': '5.00000000',\n",
       "  'average_buy_price': '71.3150',\n",
       "  'equity': '442.25',\n",
       "  'percent_change': '24.03',\n",
       "  'equity_change': '85.675000',\n",
       "  'type': 'stock',\n",
       "  'name': 'Qualcomm',\n",
       "  'id': '5ea5e761-1747-4911-beec-5a24af338329',\n",
       "  'pe_ratio': '24.430500',\n",
       "  'percentage': '41.19'},\n",
       " 'AMD': {'price': '42.500000',\n",
       "  'quantity': '8.00000000',\n",
       "  'average_buy_price': '25.6100',\n",
       "  'equity': '340.00',\n",
       "  'percent_change': '65.95',\n",
       "  'equity_change': '135.120000',\n",
       "  'type': 'stock',\n",
       "  'name': 'AMD',\n",
       "  'id': '940fc3f5-1db5-4fed-b452-f3a2e4562b5f',\n",
       "  'pe_ratio': '212.552000',\n",
       "  'percentage': '31.67'},\n",
       " 'LUNA': {'price': '7.780000',\n",
       "  'quantity': '12.00000000',\n",
       "  'average_buy_price': '3.6458',\n",
       "  'equity': '93.36',\n",
       "  'percent_change': '113.40',\n",
       "  'equity_change': '49.610400',\n",
       "  'type': 'stock',\n",
       "  'name': 'Luna Innovations',\n",
       "  'id': 'b0bba285-1e9a-4a06-b08f-a0c4a9d884f4',\n",
       "  'pe_ratio': '90.349800',\n",
       "  'percentage': '8.69'},\n",
       " 'EADSY': {'price': '36.240000',\n",
       "  'quantity': '2.00000000',\n",
       "  'average_buy_price': '32.8050',\n",
       "  'equity': '72.48',\n",
       "  'percent_change': '10.47',\n",
       "  'equity_change': '6.870000',\n",
       "  'type': 'adr',\n",
       "  'name': 'Airbus',\n",
       "  'id': '091aac51-a092-4661-9920-2dbec9ca9d5b',\n",
       "  'pe_ratio': '25.490500',\n",
       "  'percentage': '6.75'},\n",
       " 'TWTR': {'price': '31.600000',\n",
       "  'quantity': '1.00000000',\n",
       "  'average_buy_price': '29.1800',\n",
       "  'equity': '31.60',\n",
       "  'percent_change': '8.29',\n",
       "  'equity_change': '2.420000',\n",
       "  'type': 'stock',\n",
       "  'name': 'Twitter',\n",
       "  'id': '3a47ca97-d5a2-4a55-9045-053a588894de',\n",
       "  'pe_ratio': '14.849000',\n",
       "  'percentage': '2.94'},\n",
       " 'LYFT': {'price': '47.160000',\n",
       "  'quantity': '1.00000000',\n",
       "  'average_buy_price': '59.9450',\n",
       "  'equity': '47.16',\n",
       "  'percent_change': '-21.33',\n",
       "  'equity_change': '-12.785000',\n",
       "  'type': 'stock',\n",
       "  'name': 'Lyft',\n",
       "  'id': '2fd39520-01a7-4612-ab1f-ddbb9a861268',\n",
       "  'pe_ratio': '0.000000',\n",
       "  'percentage': '4.39'},\n",
       " 'TRIP': {'price': '29.890000',\n",
       "  'quantity': '1.00000000',\n",
       "  'average_buy_price': '32.4000',\n",
       "  'equity': '29.89',\n",
       "  'percent_change': '-7.75',\n",
       "  'equity_change': '-2.510000',\n",
       "  'type': 'stock',\n",
       "  'name': 'TripAdvisor',\n",
       "  'id': '7328fdb2-35ac-41e7-930c-d368585f2f6e',\n",
       "  'pe_ratio': '35.185900',\n",
       "  'percentage': '2.78'},\n",
       " 'RKUNY': {'price': '8.500000',\n",
       "  'quantity': '2.00000000',\n",
       "  'average_buy_price': '8.9000',\n",
       "  'equity': '17.00',\n",
       "  'percent_change': '-4.49',\n",
       "  'equity_change': '-0.800000',\n",
       "  'type': 'adr',\n",
       "  'name': 'Rakuten',\n",
       "  'id': '5f4e41a2-b358-43ed-99ad-930107b8f27b',\n",
       "  'pe_ratio': '76.241100',\n",
       "  'percentage': '1.58'}}"
      ]
     },
     "execution_count": 53,
     "metadata": {},
     "output_type": "execute_result"
    }
   ],
   "source": [
    "current_portfolio = robin.account.build_holdings()\n",
    "fundamental_info = robin.stocks.get_fundamentals('QCOM')\n",
    "fundamentals = {}\n",
    "hist_price = {}\n",
    "for key, info in current_portfolio.items():\n",
    "    hist_price[key] = robin.stocks.get_historicals(key, span='week', bounds='regular')\n",
    "    if float(current_portfolio[key]['percent_change']) > 25:\n",
    "        print(\"fuck yea \" + key)\n",
    "    elif float(current_portfolio[key]['percent_change']) < -25: #stoploss\n",
    "        '''Need to think of more sophisticated mechanisms for stoploss to prevent unnecessary loss\n",
    "        maybe define a separate function (stoploss_check()) for stoploss'''\n",
    "        print(\"Sell \" + key + \" now!\")\n",
    "    else: continue\n",
    "current_portfolio\n",
    "\n"
   ]
  },
  {
   "cell_type": "markdown",
   "metadata": {},
   "source": [
    "Stop-loss ideas: \n",
    "price_delta = price - price[-1] for prices over a period of time if price != price[0]\n",
    "record list of deltas of one week and observe if delta decreases or increases over the time period \n",
    "if delta trend is increasing from negative, stock price is reaching trough and a good time to invest\n",
    "if delta trend is increasing from positive, stock price is rising, good time to sell\n",
    "if delta trend is decreasing from positive, stock price is reaching peak, good time to sell\n",
    "if delta trend is decreasing from negative, stock price just began to drop and will drop lower, good time to sell\n",
    "\n",
    "or sell ONLY if equity_change is positive, which means no stop-loss\n",
    "\n",
    "buy previous stock ONLY if:\n",
    "The stock has not been traded today\n",
    "current price < previous sell price"
   ]
  }
 ],
 "metadata": {
  "kernelspec": {
   "display_name": "Python 3",
   "language": "python",
   "name": "python3"
  },
  "language_info": {
   "codemirror_mode": {
    "name": "ipython",
    "version": 3
   },
   "file_extension": ".py",
   "mimetype": "text/x-python",
   "name": "python",
   "nbconvert_exporter": "python",
   "pygments_lexer": "ipython3",
   "version": "3.7.4"
  }
 },
 "nbformat": 4,
 "nbformat_minor": 2
}
